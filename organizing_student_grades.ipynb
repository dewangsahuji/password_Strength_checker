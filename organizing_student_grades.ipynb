{
 "cells": [
  {
   "cell_type": "markdown",
   "metadata": {},
   "source": [
    "## ORGANIZING Student Grades\n"
   ]
  },
  {
   "cell_type": "code",
   "execution_count": 1,
   "metadata": {},
   "outputs": [
    {
     "name": "stdout",
     "output_type": "stream",
     "text": [
      "Average - 62 \n",
      "Highest - 99\n",
      "Lowest -12\n"
     ]
    }
   ],
   "source": [
    "marks = [50,82,56,47,58,12,89,99,68,65,63]\n",
    "\n",
    "aver = sum(marks)//len(marks)\n",
    "high = max(marks)\n",
    "low = min(marks)\n",
    "\n",
    "print(f\"Average - {aver} \\nHighest - {high}\\nLowest -{low}\")"
   ]
  },
  {
   "cell_type": "markdown",
   "metadata": {},
   "source": [
    "## Managing Inventory "
   ]
  },
  {
   "cell_type": "code",
   "execution_count": 4,
   "metadata": {},
   "outputs": [
    {
     "name": "stdout",
     "output_type": "stream",
     "text": [
      "Available stocks are :\n",
      "-orange\n",
      "-pineapple\n",
      "-grapes\n",
      "-mango\n",
      "-papaya\n",
      "-kiwi\n"
     ]
    }
   ],
   "source": [
    "inventory = ['apple','orange','pineapple','grapes','mango','papaya']\n",
    "inventory.append('kiwi')\n",
    "inventory.remove('apple')\n",
    "print(\"Available stocks are :\")\n",
    "for i in inventory:\n",
    "    print(f\"-{i}\")"
   ]
  }
 ],
 "metadata": {
  "kernelspec": {
   "display_name": "Python 3",
   "language": "python",
   "name": "python3"
  },
  "language_info": {
   "codemirror_mode": {
    "name": "ipython",
    "version": 3
   },
   "file_extension": ".py",
   "mimetype": "text/x-python",
   "name": "python",
   "nbconvert_exporter": "python",
   "pygments_lexer": "ipython3",
   "version": "3.13.0"
  }
 },
 "nbformat": 4,
 "nbformat_minor": 2
}
