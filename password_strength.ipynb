{
 "cells": [
  {
   "cell_type": "markdown",
   "metadata": {},
   "source": [
    "# Password Strength Checker\n"
   ]
  },
  {
   "cell_type": "code",
   "execution_count": 15,
   "metadata": {},
   "outputs": [
    {
     "name": "stdout",
     "output_type": "stream",
     "text": [
      "True\n"
     ]
    }
   ],
   "source": [
    "def is_strength(password):\n",
    "    if len(password)<8:\n",
    "        return False\n",
    "    if not any(char.isdigit() for char in password):\n",
    "        return False\n",
    "    if not any(char.upper() for char in password):\n",
    "        return False\n",
    "    if not any(char.lower() for char in password):\n",
    "        return False\n",
    "    if any(char.isspace() for char in password):\n",
    "        return False\n",
    "    else:\n",
    "        return True\n",
    "    \n",
    "print(is_strength(\"kjLOPH12\"))"
   ]
  },
  {
   "cell_type": "markdown",
   "metadata": {},
   "source": [
    "# Words in a file \n"
   ]
  },
  {
   "cell_type": "code",
   "execution_count": 16,
   "metadata": {},
   "outputs": [
    {
     "name": "stdout",
     "output_type": "stream",
     "text": [
      "{'hyy': 3, 'byyy': 2, 'hello': 1, 'my': 1, 'name': 1, 'is': 1, 'dewang': 2, 'can': 1, 'do': 1, 'anything': 1, 'help': 1, 'me': 2, 'i': 1, 'am': 1, 'not': 1, 'available': 1, 'buy': 1, 'a': 1, 'sam': 1}\n"
     ]
    },
    {
     "name": "stderr",
     "output_type": "stream",
     "text": [
      "<>:8: SyntaxWarning: invalid escape sequence '\\|'\n",
      "<>:8: SyntaxWarning: invalid escape sequence '\\|'\n",
      "C:\\Users\\dewan\\AppData\\Local\\Temp\\ipykernel_5272\\2857367275.py:8: SyntaxWarning: invalid escape sequence '\\|'\n",
      "  word = word.lower().strip('\"?/>.<,{[\\|+-*!@#$%^&')\n"
     ]
    }
   ],
   "source": [
    "def count_words(file_path):\n",
    "    count = {}\n",
    "\n",
    "    with open(file_path,'r') as file:\n",
    "        for line in file:\n",
    "            words=line.split()\n",
    "            for word in words:\n",
    "                word = word.lower().strip('\"?/>.<,{[\\|+-*!@#$%^&')\n",
    "                count[word]=count.get(word,0)+1\n",
    "    \n",
    "    return count\n",
    "\n",
    "filepath='sam.txt'\n",
    "word1 = count_words(filepath)\n",
    "\n",
    "print(word1)"
   ]
  }
 ],
 "metadata": {
  "kernelspec": {
   "display_name": "Python 3",
   "language": "python",
   "name": "python3"
  },
  "language_info": {
   "codemirror_mode": {
    "name": "ipython",
    "version": 3
   },
   "file_extension": ".py",
   "mimetype": "text/x-python",
   "name": "python",
   "nbconvert_exporter": "python",
   "pygments_lexer": "ipython3",
   "version": "3.12.0"
  }
 },
 "nbformat": 4,
 "nbformat_minor": 2
}
